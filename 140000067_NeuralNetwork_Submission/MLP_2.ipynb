{
 "cells": [
  {
   "cell_type": "markdown",
   "id": "34288f95-6405-41e3-8bd7-51a5a0b2fc94",
   "metadata": {},
   "source": [
    "# IMPORTS "
   ]
  },
  {
   "cell_type": "code",
   "execution_count": 106,
   "id": "0efb00a7-6246-4e8b-9ad4-d74855674e33",
   "metadata": {
    "tags": []
   },
   "outputs": [],
   "source": [
    "import pandas as pd\n",
    "import numpy as np \n",
    "import seaborn as sns\n",
    "import matplotlib.pyplot as plt\n",
    "\n",
    "import torch\n",
    "import torch.nn as nn\n",
    "\n",
    "from sklearn.model_selection import train_test_split\n",
    "from sklearn.preprocessing import LabelEncoder, MinMaxScaler\n",
    "from sklearn.metrics import accuracy_score, roc_auc_score, roc_curve, classification_report, confusion_matrix\n",
    "\n",
    "device = torch.device('cuda' if torch.cuda.is_available() else 'cpu')\n",
    "torch.manual_seed(12)\n",
    "\n",
    "import warnings\n",
    "warnings.filterwarnings('ignore')"
   ]
  },
  {
   "cell_type": "markdown",
   "id": "8549b7c2-471c-4450-8b88-d8caf9f610e6",
   "metadata": {},
   "source": [
    "# DATA LOADING AND PROCESSING "
   ]
  },
  {
   "cell_type": "code",
   "execution_count": 107,
   "id": "2bad407a-c842-4b5b-91bf-f5d02167d8a2",
   "metadata": {
    "tags": []
   },
   "outputs": [
    {
     "data": {
      "image/png": "[encoded data removed]",
      "text/plain": [
       "<Figure size 432x288 with 1 Axes>"
      ]
     },
     "metadata": {
      "needs_background": "light"
     },
     "output_type": "display_data"
    }
   ],
   "source": [
    "## loading data\n",
    "data = pd.read_csv(\"diabetes_data_upload (1).csv\")\n",
    "\n",
    "## encdoing categorical columns\n",
    "label_encoder = LabelEncoder()\n",
    "for column in data.columns:\n",
    "    data[column] = label_encoder.fit_transform(data[column])\n",
    "    \n",
    "## scaling age column\n",
    "scaler = MinMaxScaler()\n",
    "data[\"Age\"] = scaler.fit_transform(data[['Age']])\n",
    "\n",
    "## Seperating data and lables\n",
    "X = data.drop([\"class\"], axis = 1)\n",
    "y = data[\"class\"]\n",
    "\n",
    "## plotting class labels count plot \n",
    "fig = sns.countplot(y);"
   ]
  },
  {
   "cell_type": "markdown",
   "id": "425853b6-4a48-46ad-bc89-d97cd280caa9",
   "metadata": {},
   "source": [
    "# SPLITING DATA TO TRAIN, VALID AND TEST SET "
   ]
  },
  {
   "cell_type": "code",
   "execution_count": 108,
   "id": "ac63cbaa-ffab-4614-a47b-18e63a33c531",
   "metadata": {
    "tags": []
   },
   "outputs": [],
   "source": [
    "## Spliting data to train and test splits \n",
    "X_train, X_test, y_train, y_test =  train_test_split(X,y, test_size = 0.2, random_state = 12)\n",
    "## Spliting train data further to validation split \n",
    "X_train, X_valid, y_train, y_valid =  train_test_split(X_train, y_train, test_size = 0.2, random_state = 12)\n",
    "## converting numpy arrays to  pytorch tensors \n",
    "X_train = torch.tensor(X_train.values, dtype=torch.float64,  device =device )\n",
    "y_train = torch.tensor(y_train.values, dtype=torch.float64,  device =device)\n",
    "X_valid = torch.tensor(X_valid.values, dtype=torch.float64, device =device)\n",
    "y_valid = torch.tensor(y_valid.values, dtype=torch.float64, device =device)\n",
    "X_test = torch.tensor(X_test.values, dtype=torch.float64, device =device)\n",
    "y_test = torch.tensor(y_test.values, dtype=torch.float64, device =device)"
   ]
  },
  {
   "cell_type": "markdown",
   "id": "3b8881f9-2e08-48e9-bf25-2154c74688b5",
   "metadata": {},
   "source": [
    "<h1>(i) WITHOUT HYPER PARAMAETER TUNING</h1>"
   ]
  },
  {
   "cell_type": "markdown",
   "id": "198963cd-6797-44a6-99a4-9b9d401bdd0d",
   "metadata": {},
   "source": [
    "# DEFINING MODEL "
   ]
  },
  {
   "cell_type": "code",
   "execution_count": 109,
   "id": "05a60916-782f-44fa-bf08-57236ed1682f",
   "metadata": {
    "tags": []
   },
   "outputs": [],
   "source": [
    "## defining model class\n",
    "# one input layer, one hidden layer and one ouput layer\n",
    "class MLP(nn.Module):\n",
    "    def __init__(self, dropout_prob,in_features, out_features ):\n",
    "        super(MLP, self).__init__()\n",
    "        ## dropout probability\n",
    "        self.dropout_prob = dropout_prob\n",
    "        self.dropout = nn.Dropout(p=dropout_prob)\n",
    "        \n",
    "        ## linear layers \n",
    "        self.layer_1 = nn.Linear(in_features, 2*in_features) \n",
    "        self.layer_2 = nn.Linear(2*in_features, out_features)\n",
    "        \n",
    "        ## activation layers\n",
    "        self.relu = nn.ReLU()\n",
    "        self.sigmoid = nn.Sigmoid()\n",
    "        \n",
    "    ## forward call of model     \n",
    "    def forward(self, inputs):\n",
    "        x = self.relu(self.layer_1(inputs))\n",
    "        x = self.dropout(x)\n",
    "        x = self.relu(self.layer_2(x))\n",
    "        x = self.sigmoid(x)\n",
    "        return x\n",
    "\n",
    "## defining accuracy metric\n",
    "def accuracy(ouputs,labels):\n",
    "    preds = ouputs.squeeze().numpy()\n",
    "    preds = preds.round().astype(\"int\")\n",
    "    labels = labels.numpy().astype(\"int\")\n",
    "    return accuracy_score(labels, preds)"
   ]
  },
  {
   "cell_type": "markdown",
   "id": "e805334b-e474-4d44-80af-8b8180e1dd3e",
   "metadata": {},
   "source": [
    "# TRAINING "
   ]
  },
  {
   "cell_type": "code",
   "execution_count": 110,
   "id": "de511e78-debe-41e8-826c-bc73d81fd928",
   "metadata": {
    "tags": []
   },
   "outputs": [
    {
     "name": "stdout",
     "output_type": "stream",
     "text": [
      "EPOCH =   1,     Train loss = 0.67,    Train acc = 0.38, \n",
      "EPOCH =  10,     Train loss = 0.65,    Train acc = 0.71, \n",
      "EPOCH =  20,     Train loss = 0.62,    Train acc = 0.83, \n",
      "EPOCH =  30,     Train loss = 0.60,    Train acc = 0.89, \n",
      "EPOCH =  40,     Train loss = 0.59,    Train acc = 0.90, \n"
     ]
    }
   ],
   "source": [
    "## hyperparameters\n",
    "DROPOUT = 0.2\n",
    "LEARNING_RATE = 0.005\n",
    "EPOCHS = 40\n",
    "B1 = 0.5\n",
    "\n",
    "## defining input and output shapes\n",
    "in_features = X_train.shape[1]\n",
    "out_features = 1 ## binary_classification\n",
    "\n",
    "## nstantiating model\n",
    "model = MLP(DROPOUT,in_features, out_features)\n",
    "\n",
    "## sending mode to device (GPU/CPU)\n",
    "model.to(device)\n",
    "\n",
    "## defining loss and optmizier\n",
    "criterion = nn.BCEWithLogitsLoss()\n",
    "optimizer = torch.optim.Adam(model.parameters(), lr=LEARNING_RATE, betas=(B1, 0.999)) \n",
    "\n",
    "train_losses = []\n",
    "train_accuarcies = []\n",
    "test_losses = []\n",
    "test_accuarcies = []\n",
    "\n",
    "## training for previously defined number of epochs\n",
    "for epoch in range(EPOCHS):\n",
    "    \n",
    "    ## training on train set\n",
    "    out = model(X_train.float())\n",
    "    loss = criterion(out.squeeze(),y_train)\n",
    "    train_acc = accuracy(out.detach().cpu(),y_train.cpu())\n",
    "    train_losses.append(loss.cpu().item())\n",
    "    train_accuarcies.append(train_acc)\n",
    "    optimizer.zero_grad()\n",
    "    loss.backward(retain_graph=True)\n",
    "    optimizer.step()\n",
    "    \n",
    "    ## verbosity progress print\n",
    "    if (epoch+1)%10 == 0 or epoch ==0 :\n",
    "        print(f\"EPOCH = {(epoch+1):>3.0f},     Train loss = {(loss):>0.2f},    Train acc = {(train_acc):>0.2f}, \", )"
   ]
  },
  {
   "cell_type": "code",
   "execution_count": 111,
   "id": "373d339f-7377-435c-819f-a49ec290afc4",
   "metadata": {
    "tags": []
   },
   "outputs": [
    {
     "data": {
      "image/png": "[encoded data removed]",
      "text/plain": [
       "<Figure size 1080x360 with 2 Axes>"
      ]
     },
     "metadata": {
      "needs_background": "light"
     },
     "output_type": "display_data"
    }
   ],
   "source": [
    "## Accuracy and Loss curve\n",
    "fig,ax = plt.subplots(1,2, figsize= (15,5))\n",
    "\n",
    "ax[0].plot(train_losses, label = \"Train\", color = \"red\")\n",
    "ax[0].plot(test_losses, label = \"Test\", color = 'blue')\n",
    "ax[0].set_xlabel(\"Epochs\")\n",
    "ax[0].set_ylabel(\"Loss\")\n",
    "ax[0].set_title(\"Loss vs Epochs\")\n",
    "ax[0].legend()\n",
    "\n",
    "ax[1].plot(train_accuarcies, label = \"Train\", color = \"red\")\n",
    "ax[1].set_xlabel(\"Epochs\")\n",
    "ax[1].set_ylabel(\"Accuracy\")\n",
    "ax[1].set_title(\"Accuracy vs Epochs\")\n",
    "ax[1].legend()\n",
    "fig.show()"
   ]
  },
  {
   "cell_type": "markdown",
   "id": "de7e3ed1-ead4-4bbc-b1b8-a097c2436425",
   "metadata": {},
   "source": [
    "<h1>(ii) HYPER PARAMETER TUNING </h1> "
   ]
  },
  {
   "cell_type": "markdown",
   "id": "046313d5-c35a-4da9-85b8-a23e510bcbad",
   "metadata": {},
   "source": [
    "## Effect of number of hidden layers "
   ]
  },
  {
   "cell_type": "code",
   "execution_count": 112,
   "id": "fe8dd2e8-3d73-42f6-b009-a1447972c315",
   "metadata": {
    "tags": []
   },
   "outputs": [
    {
     "name": "stdout",
     "output_type": "stream",
     "text": [
      " Number of layers: 3, Validation-Set Accuracy =  90.48%  \n",
      " Number of layers: 4, Validation-Set Accuracy =  86.90%  \n",
      " Number of layers: 5, Validation-Set Accuracy =  89.29%  \n"
     ]
    }
   ],
   "source": [
    "## defining 2 new models\n",
    "## one input layer, 2 hidden layers and one output layer\n",
    "class MLP_3(nn.Module):\n",
    "    def __init__(self, dropout_prob,in_features, out_features ):\n",
    "        super(MLP_3, self).__init__()\n",
    "        self.dropout_prob = dropout_prob\n",
    "        self.layer_1 = nn.Linear(in_features, 2*in_features) \n",
    "        self.layer_2 = nn.Linear(2*in_features, 4*in_features) \n",
    "        self.layer_3 = nn.Linear(4*in_features, out_features)\n",
    "        self.relu = nn.ReLU()\n",
    "        self.sigmoid = nn.Sigmoid()\n",
    "        self.dropout = nn.Dropout(p=dropout_prob)\n",
    "        \n",
    "    def forward(self, inputs):\n",
    "        x = self.relu(self.layer_1(inputs))\n",
    "        x = self.dropout(x)\n",
    "        x = self.relu(self.layer_2(x))\n",
    "        x = self.dropout(x)\n",
    "        x = self.layer_3(x)\n",
    "        x = self.sigmoid(x)\n",
    "        return x\n",
    "\n",
    "## one input layer, 3 hidden layers, and one output layer\n",
    "class MLP_4(nn.Module):\n",
    "    def __init__(self, dropout_prob,in_features, out_features ):\n",
    "        super(MLP_4, self).__init__()\n",
    "        self.dropout_prob = dropout_prob\n",
    "        self.layer_1 = nn.Linear(in_features, 2*in_features) \n",
    "        self.layer_2 = nn.Linear(2*in_features, 4*in_features) \n",
    "        self.layer_3 = nn.Linear(4*in_features, 8*in_features)\n",
    "        self.layer_4 = nn.Linear(8*in_features, out_features)\n",
    "        self.relu = nn.ReLU()\n",
    "        self.sigmoid = nn.Sigmoid()\n",
    "        self.dropout = nn.Dropout(p=dropout_prob)\n",
    "        \n",
    "    def forward(self, inputs):\n",
    "        x = self.relu(self.layer_1(inputs))\n",
    "        x = self.dropout(x)\n",
    "        x = self.relu(self.layer_2(x))\n",
    "        x = self.dropout(x)\n",
    "        x = self.relu(self.layer_3(x))\n",
    "        x = self.dropout(x)\n",
    "        x = self.layer_4(x)\n",
    "        x = self.sigmoid(x)\n",
    "        return x\n",
    "    \n",
    "        \n",
    "def accuracy(ouputs,labels):\n",
    "    preds = ouputs.squeeze().numpy()\n",
    "    preds = preds.round().astype(\"int\")\n",
    "    labels = labels.numpy().astype(\"int\")\n",
    "    return accuracy_score(labels, preds)\n",
    "\n",
    "\n",
    "## hyperparameters\n",
    "DROPOUT = 0.2\n",
    "LEARNING_RATE = 0.005\n",
    "EPOCHS = 40\n",
    "in_features = X_train.shape[1]\n",
    "out_features = 1 \n",
    "B1 = 0.5\n",
    "i = 3\n",
    "## iterating over all three models and generating test set accuracy \n",
    "models = [ MLP(DROPOUT,in_features, out_features), MLP_3(DROPOUT,in_features, out_features), MLP_4(DROPOUT,in_features, out_features) ]\n",
    "for model in models:\n",
    "    model.to(device)\n",
    "    criterion = nn.BCEWithLogitsLoss()\n",
    "    optimizer = torch.optim.Adam(model.parameters(), lr=LEARNING_RATE,betas=(B1, 0.999)) \n",
    " \n",
    "\n",
    "    train_losses = []\n",
    "    train_accuarcies = []\n",
    "    valid_losses = []\n",
    "    valid_accuarcies = []\n",
    "    for epoch in range(EPOCHS):\n",
    "        out = model(X_train.float())\n",
    "        loss = criterion(out.squeeze(),y_train)\n",
    "        train_acc = accuracy(out.detach().cpu(),y_train.cpu())\n",
    "        train_losses.append(loss.cpu().item())\n",
    "        train_accuarcies.append(train_acc)\n",
    "        optimizer.zero_grad()\n",
    "        loss.backward(retain_graph=True)\n",
    "        optimizer.step()\n",
    "\n",
    "        with torch.no_grad():\n",
    "            pred = model(X_valid.float())\n",
    "            valid_loss = criterion(pred.squeeze(),y_valid)\n",
    "            valid_acc = accuracy(pred.cpu(),y_valid.cpu())\n",
    "            valid_losses.append(valid_loss.cpu().item())\n",
    "            valid_accuarcies.append(valid_acc)\n",
    "    model.eval()\n",
    "    with torch.no_grad():\n",
    "        preds = model(X_valid.float())\n",
    "        preds = preds.squeeze().cpu().numpy().round().astype(\"int\")\n",
    "    labels = y_valid.cpu().numpy()\n",
    "    print(f\" Number of layers: {i}, Validation-Set Accuracy =  {(accuracy_score(labels,preds)*100):>0.2f}%  \")\n",
    "    i += 1 "
   ]
  },
  {
   "cell_type": "markdown",
   "id": "8488f6b1-28f5-46cc-ace4-e43535210816",
   "metadata": {},
   "source": [
    "<center><h3> 3 number of layers (one input layer, one hidden layer, and one output layer) provides best score on valid set</h3> </center>"
   ]
  },
  {
   "cell_type": "markdown",
   "id": "a3537bda-887a-466d-b87d-fe8fc8adc0be",
   "metadata": {},
   "source": [
    "## Effect of Dropout Probabilities "
   ]
  },
  {
   "cell_type": "code",
   "execution_count": 113,
   "id": "8cea475a-e582-4c3d-8037-44381b4e355f",
   "metadata": {
    "tags": []
   },
   "outputs": [
    {
     "name": "stdout",
     "output_type": "stream",
     "text": [
      "Dropout = 0.2, Validation-Set Accuracy =  89.29%  \n",
      "Dropout = 0.3, Validation-Set Accuracy =  86.90%  \n",
      "Dropout = 0.4, Validation-Set Accuracy =  90.48%  \n",
      "Dropout = 0.5, Validation-Set Accuracy =  90.48%  \n"
     ]
    }
   ],
   "source": [
    "## defining 4 different dropout probabilities\n",
    "DROPOUTS = [ 0.2, 0.3, 0.4, 0.5]\n",
    "LEARNING_RATE = 0.005\n",
    "EPOCHS = 40\n",
    "B1 = 0.5\n",
    "in_features = X_train.shape[1]\n",
    "out_features = 1 \n",
    "\n",
    "##iterating over defined dropout probabilities\n",
    "for dropout in DROPOUTS:\n",
    "    model = MLP(dropout,in_features, out_features)\n",
    "    model.to(device)\n",
    "    criterion = nn.BCEWithLogitsLoss()\n",
    "    optimizer = torch.optim.Adam(model.parameters(), lr=LEARNING_RATE,betas=(B1, 0.999) ) \n",
    "    train_losses = []\n",
    "    train_accuarcies = []\n",
    "    test_losses = []\n",
    "    test_accuarcies = []\n",
    "    for epoch in range(EPOCHS):\n",
    "        out = model(X_train.float())\n",
    "        loss = criterion(out.squeeze(),y_train)\n",
    "        train_acc = accuracy(out.detach().cpu(),y_train.cpu())\n",
    "        train_losses.append(loss.cpu().item())\n",
    "        train_accuarcies.append(train_acc)\n",
    "        optimizer.zero_grad()\n",
    "        loss.backward(retain_graph=True)\n",
    "        optimizer.step()\n",
    "\n",
    "        with torch.no_grad():\n",
    "            pred = model(X_valid.float())\n",
    "            valid_loss = criterion(pred.squeeze(),y_valid)\n",
    "            valid_acc = accuracy(pred.cpu(),y_valid.cpu())\n",
    "            valid_losses.append(valid_loss.cpu().item())\n",
    "            valid_accuarcies.append(valid_acc)\n",
    "    model.eval()\n",
    "    with torch.no_grad():\n",
    "        preds = model(X_valid.float())\n",
    "        preds = preds.squeeze().cpu().numpy().round().astype(\"int\")\n",
    "    labels = y_valid.cpu().numpy()\n",
    "    print(f\"Dropout = {dropout}, Validation-Set Accuracy =  {(accuracy_score(labels,preds)*100):>0.2f}%  \")"
   ]
  },
  {
   "cell_type": "markdown",
   "id": "da6c1280-71a1-4822-a293-72f9eae8e1f3",
   "metadata": {
    "execution": {
     "iopub.execute_input": "2022-04-16T07:42:41.866226Z",
     "iopub.status.busy": "2022-04-16T07:42:41.866226Z",
     "iopub.status.idle": "2022-04-16T07:42:41.874205Z",
     "shell.execute_reply": "2022-04-16T07:42:41.873222Z",
     "shell.execute_reply.started": "2022-04-16T07:42:41.866226Z"
    }
   },
   "source": [
    "<center><h3> Dropout Probability of 0.4 provides best score on valid set</h3> </center>"
   ]
  },
  {
   "cell_type": "markdown",
   "id": "b3292259-f468-43eb-9578-a07bff3ea9b0",
   "metadata": {},
   "source": [
    "## Effect of Learning Rate"
   ]
  },
  {
   "cell_type": "code",
   "execution_count": 114,
   "id": "cda5e9a3-0b0d-42dd-a3c4-e07de12eaed9",
   "metadata": {
    "tags": []
   },
   "outputs": [
    {
     "name": "stdout",
     "output_type": "stream",
     "text": [
      "Learning Rate = 0.05, Validation-Set Accuracy =  89.29%  \n",
      "Learning Rate = 0.01, Validation-Set Accuracy =  91.67%  \n",
      "Learning Rate = 0.005, Validation-Set Accuracy =  90.48%  \n",
      "Learning Rate = 0.0001, Validation-Set Accuracy =  72.62%  \n",
      "Learning Rate = 0.0005, Validation-Set Accuracy =  82.14%  \n"
     ]
    }
   ],
   "source": [
    "## defining 5 different learning rates\n",
    "LEARNING_RATE = [0.05, 0.01, 0.005, 0.0001, 0.0005]\n",
    "DROPOUTS = 0.4\n",
    "EPOCHS = 40\n",
    "B1 = 0.5\n",
    "in_features = X_train.shape[1]\n",
    "out_features = 1 \n",
    "\n",
    "##iterating over defined learning rates\n",
    "for lr in LEARNING_RATE:\n",
    "    model = MLP(DROPOUT,in_features, out_features)\n",
    "    model.to(device)\n",
    "    criterion = nn.BCEWithLogitsLoss()\n",
    "    optimizer = torch.optim.Adam(model.parameters(), lr=lr, betas=(B1, 0.999)) \n",
    "    train_losses = []\n",
    "    train_accuarcies = []\n",
    "    test_losses = []\n",
    "    test_accuarcies = []\n",
    "    for epoch in range(EPOCHS):\n",
    "        out = model(X_train.float())\n",
    "        loss = criterion(out.squeeze(),y_train)\n",
    "        train_acc = accuracy(out.detach().cpu(),y_train.cpu())\n",
    "        train_losses.append(loss.cpu().item())\n",
    "        train_accuarcies.append(train_acc)\n",
    "        optimizer.zero_grad()\n",
    "        loss.backward(retain_graph=True)\n",
    "        optimizer.step()\n",
    "\n",
    "        with torch.no_grad():\n",
    "            pred = model(X_valid.float())\n",
    "            valid_loss = criterion(pred.squeeze(),y_valid)\n",
    "            valid_acc = accuracy(pred.cpu(),y_valid.cpu())\n",
    "            valid_losses.append(valid_loss.cpu().item())\n",
    "            valid_accuarcies.append(valid_acc)\n",
    "    model.eval()\n",
    "    with torch.no_grad():\n",
    "        preds = model(X_valid.float())\n",
    "        preds = preds.squeeze().cpu().numpy().round().astype(\"int\")\n",
    "    labels = y_valid.cpu().numpy()\n",
    "    print(f\"Learning Rate = {lr}, Validation-Set Accuracy =  {(accuracy_score(labels,preds)*100):>0.2f}%  \")"
   ]
  },
  {
   "cell_type": "markdown",
   "id": "91996f64-c20a-4471-acb5-6c85f6c028f9",
   "metadata": {},
   "source": [
    "<center><h3> Learning Rate of 0.01 provides best score on valid set</h3> </center>"
   ]
  },
  {
   "cell_type": "code",
   "execution_count": 115,
   "id": "6597ee58-2cb8-41dd-acf7-ed4173fd3e30",
   "metadata": {
    "tags": []
   },
   "outputs": [
    {
     "name": "stdout",
     "output_type": "stream",
     "text": [
      "Number of Epochs = 50, Validation-Set Accuracy =  90.48%  \n",
      "Number of Epochs = 100, Validation-Set Accuracy =  90.48%  \n",
      "Number of Epochs = 200, Validation-Set Accuracy =  92.86%  \n",
      "Number of Epochs = 300, Validation-Set Accuracy =  94.05%  \n",
      "Number of Epochs = 400, Validation-Set Accuracy =  90.48%  \n",
      "Number of Epochs = 500, Validation-Set Accuracy =  91.67%  \n"
     ]
    }
   ],
   "source": [
    "## defining 6 different number of epochs\n",
    "EPOCHS = [50,100,200,300,400,500]\n",
    "LEARNING_RATE = 0.01\n",
    "DROPOUTS = 0.4\n",
    "B1 = 0.5\n",
    "in_features = X_train.shape[1]\n",
    "out_features = 1 \n",
    "\n",
    "##iterating over defined number of epochs\n",
    "for num_epochs in EPOCHS:\n",
    "    model = MLP(DROPOUT,in_features, out_features)\n",
    "    model.to(device)\n",
    "    criterion = nn.BCEWithLogitsLoss()\n",
    "    optimizer = torch.optim.Adam(model.parameters(), lr=LEARNING_RATE, betas=(B1, 0.999)) \n",
    "    train_losses = []\n",
    "    train_accuarcies = []\n",
    "    test_losses = []\n",
    "    test_accuarcies = []\n",
    "    for epoch in range(num_epochs):\n",
    "        out = model(X_train.float())\n",
    "        loss = criterion(out.squeeze(),y_train)\n",
    "        train_acc = accuracy(out.detach().cpu(),y_train.cpu())\n",
    "        train_losses.append(loss.cpu().item())\n",
    "        train_accuarcies.append(train_acc)\n",
    "        optimizer.zero_grad()\n",
    "        loss.backward(retain_graph=True)\n",
    "        optimizer.step()\n",
    "\n",
    "        with torch.no_grad():\n",
    "            pred = model(X_valid.float())\n",
    "            valid_loss = criterion(pred.squeeze(),y_valid)\n",
    "            valid_acc = accuracy(pred.cpu(),y_valid.cpu())\n",
    "            valid_losses.append(valid_loss.cpu().item())\n",
    "            valid_accuarcies.append(valid_acc)\n",
    "    model.eval()\n",
    "    with torch.no_grad():\n",
    "        preds = model(X_valid.float())\n",
    "        preds = preds.squeeze().cpu().numpy().round().astype(\"int\")\n",
    "    labels = y_valid.cpu().numpy()\n",
    "    print(f\"Number of Epochs = {num_epochs}, Validation-Set Accuracy =  {(accuracy_score(labels,preds)*100):>0.2f}%  \")"
   ]
  },
  {
   "cell_type": "markdown",
   "id": "bb095383-2533-4586-a7f3-59506d3d93ca",
   "metadata": {},
   "source": [
    "<center><h3> 300 Epochs provides best score on valid set</h3> </center>"
   ]
  },
  {
   "cell_type": "markdown",
   "id": "525527c7-f426-4215-8f43-ddc2dd477af6",
   "metadata": {
    "execution": {
     "iopub.execute_input": "2022-04-22T04:43:19.306946Z",
     "iopub.status.busy": "2022-04-22T04:43:19.306946Z",
     "iopub.status.idle": "2022-04-22T04:43:19.315923Z",
     "shell.execute_reply": "2022-04-22T04:43:19.314965Z",
     "shell.execute_reply.started": "2022-04-22T04:43:19.306946Z"
    }
   },
   "source": [
    "## Effect of Momentum (Beta 1 )"
   ]
  },
  {
   "cell_type": "code",
   "execution_count": 142,
   "id": "13890730-9d0f-40b7-b9d9-2153bb64aaa0",
   "metadata": {
    "tags": []
   },
   "outputs": [
    {
     "name": "stdout",
     "output_type": "stream",
     "text": [
      "Momentum(Beta1): = 0.01, Validation-Set Accuracy =  88.10%  \n",
      "Momentum(Beta1): = 0.05, Validation-Set Accuracy =  96.43%  \n",
      "Momentum(Beta1): = 0.1, Validation-Set Accuracy =  90.48%  \n",
      "Momentum(Beta1): = 0.5, Validation-Set Accuracy =  86.90%  \n",
      "Momentum(Beta1): = 0.9, Validation-Set Accuracy =  90.48%  \n",
      "Momentum(Beta1): = 0.99, Validation-Set Accuracy =  88.10%  \n"
     ]
    }
   ],
   "source": [
    "EPOCHS = 300\n",
    "LEARNING_RATE = 0.01\n",
    "DROPOUTS = 0.4\n",
    "B1 = [0.01, 0.05, 0.1,0.5, 0.9, 0.99]\n",
    "in_features = X_train.shape[1]\n",
    "out_features = 1 \n",
    "\n",
    "##iterating over defined number of epochs\n",
    "for beta1 in B1:\n",
    "    model = MLP(DROPOUT,in_features, out_features)\n",
    "    model.to(device)\n",
    "    criterion = nn.BCEWithLogitsLoss()\n",
    "    optimizer = torch.optim.Adam(model.parameters(), lr=LEARNING_RATE, betas=(beta1, 0.999)) \n",
    "    train_losses = []\n",
    "    train_accuarcies = []\n",
    "    test_losses = []\n",
    "    test_accuarcies = []\n",
    "    for epoch in range(EPOCHS):\n",
    "        out = model(X_train.float())\n",
    "        loss = criterion(out.squeeze(),y_train)\n",
    "        train_acc = accuracy(out.detach().cpu(),y_train.cpu())\n",
    "        train_losses.append(loss.cpu().item())\n",
    "        train_accuarcies.append(train_acc)\n",
    "        optimizer.zero_grad()\n",
    "        loss.backward(retain_graph=True)\n",
    "        optimizer.step()\n",
    "\n",
    "        with torch.no_grad():\n",
    "            pred = model(X_valid.float())\n",
    "            valid_loss = criterion(pred.squeeze(),y_valid)\n",
    "            valid_acc = accuracy(pred.cpu(),y_valid.cpu())\n",
    "            valid_losses.append(valid_loss.cpu().item())\n",
    "            valid_accuarcies.append(valid_acc)\n",
    "    model.eval()\n",
    "    with torch.no_grad():\n",
    "        preds = model(X_valid.float())\n",
    "        preds = preds.squeeze().cpu().numpy().round().astype(\"int\")\n",
    "    labels = y_valid.cpu().numpy()\n",
    "    print(f\"Momentum(Beta1): = {beta1}, Validation-Set Accuracy =  {(accuracy_score(labels,preds)*100):>0.2f}%  \")"
   ]
  },
  {
   "cell_type": "markdown",
   "id": "cf624028-3a1a-498f-a7cc-9207309485ec",
   "metadata": {},
   "source": [
    "<center><h3> 0.05 Momentum ( Beta 1 ) provides best score on valid set</h3> </center>"
   ]
  },
  {
   "cell_type": "markdown",
   "id": "197158f7-787e-4e02-bb75-b98cdf273f7b",
   "metadata": {},
   "source": [
    "<h1>(iii) Final Model with optimized hyperparameters </h1>"
   ]
  },
  {
   "cell_type": "markdown",
   "id": "82cf2ab8-8f45-402a-bede-4a0bb4bb5cc2",
   "metadata": {},
   "source": [
    "## Training "
   ]
  },
  {
   "cell_type": "code",
   "execution_count": 149,
   "id": "51e4d6f5-e767-4ed9-9504-76403b16f856",
   "metadata": {
    "tags": []
   },
   "outputs": [
    {
     "name": "stdout",
     "output_type": "stream",
     "text": [
      "EPOCH =   1,     Train loss = 0.67,    Train acc = 0.60,    Test loss = 0.69,    Test acc = 0.57\n",
      "EPOCH = 100,     Train loss = 0.58,    Train acc = 0.94,    Test loss = 0.62,    Test acc = 0.93\n",
      "EPOCH = 200,     Train loss = 0.58,    Train acc = 0.97,    Test loss = 0.62,    Test acc = 0.94\n",
      "EPOCH = 300,     Train loss = 0.58,    Train acc = 0.99,    Test loss = 0.62,    Test acc = 0.95\n"
     ]
    },
    {
     "data": {
      "image/png": "[encoded data removed]",
      "text/plain": [
       "<Figure size 1080x360 with 2 Axes>"
      ]
     },
     "metadata": {
      "needs_background": "light"
     },
     "output_type": "display_data"
    }
   ],
   "source": [
    "## Optimal Hyperparameters\n",
    "DROPOUT = 0.4\n",
    "LEARNING_RATE = 0.01\n",
    "EPOCHS = 300\n",
    "in_features = X_train.shape[1]\n",
    "B1 = 0.05\n",
    "out_features = 1 ## binary_classification\n",
    "model = MLP(DROPOUT,in_features, out_features)\n",
    "model.to(device)\n",
    "criterion = nn.BCEWithLogitsLoss()\n",
    "optimizer = torch.optim.Adam(model.parameters(), lr=LEARNING_RATE, betas=(B1, 0.999)) \n",
    "\n",
    "train_losses = []\n",
    "train_accuarcies = []\n",
    "test_losses = []\n",
    "test_accuarcies = []\n",
    "for epoch in range(EPOCHS):\n",
    "    \n",
    "    ## training on train data\n",
    "    out = model(X_train.float())\n",
    "    loss = criterion(out.squeeze(),y_train)\n",
    "    train_acc = accuracy(out.detach().cpu(),y_train.cpu())\n",
    "    train_losses.append(loss.cpu().item())\n",
    "    train_accuarcies.append(train_acc)\n",
    "    optimizer.zero_grad()\n",
    "    loss.backward(retain_graph=True)\n",
    "    optimizer.step()\n",
    "    \n",
    "    ## evaluatin on test set\n",
    "    with torch.no_grad():\n",
    "        pred = model(X_test.float())\n",
    "        test_loss = criterion(pred.squeeze(),y_test)\n",
    "        test_acc = accuracy(pred.cpu(),y_test.cpu())\n",
    "        test_losses.append(test_loss.cpu().item())\n",
    "        test_accuarcies.append(test_acc)\n",
    "    if (epoch+1)%100 == 0 or epoch ==0 :\n",
    "        print(f\"EPOCH = {(epoch+1):>3.0f},     Train loss = {(loss):>0.2f},    Train acc = {(train_acc):>0.2f},    Test loss = {(test_loss):>0.2f},    Test acc = {(test_acc):>0.2f}\", )\n",
    "        \n",
    "        \n",
    "## plotting accuracy and loss curve of training \n",
    "fig,ax = plt.subplots(1,2, figsize= (15,5))\n",
    "\n",
    "ax[0].plot(train_losses, label = \"Train\", color = \"red\")\n",
    "ax[0].plot(test_losses, label = \"Test\", color = 'blue')\n",
    "ax[0].set_xlabel(\"Epochs\")\n",
    "ax[0].set_ylabel(\"Loss\")\n",
    "ax[0].set_title(\"Loss vs Epochs\")\n",
    "ax[0].legend()\n",
    "\n",
    "ax[1].plot(train_accuarcies, label = \"Train\", color = \"red\")\n",
    "ax[1].plot(test_accuarcies, label = \"Test\", color = 'blue')\n",
    "ax[1].set_xlabel(\"Epochs\")\n",
    "ax[1].set_ylabel(\"Accuracy\")\n",
    "ax[1].set_title(\"Accuracy vs Epochs\")\n",
    "ax[1].legend()\n",
    "fig.show()"
   ]
  },
  {
   "cell_type": "markdown",
   "id": "9cdc1aec-e73e-4fd3-b9e9-340b8b0a0139",
   "metadata": {},
   "source": [
    "## Saving optimal hyperparamerter tuned model "
   ]
  },
  {
   "cell_type": "code",
   "execution_count": 150,
   "id": "adb2f97b-a392-4d44-89af-014cad938577",
   "metadata": {
    "tags": []
   },
   "outputs": [],
   "source": [
    "torch.save(model, \"MLP-model\")"
   ]
  },
  {
   "cell_type": "markdown",
   "id": "d631b23a-61fc-41a0-838a-8dd8adda53f1",
   "metadata": {},
   "source": [
    "## Evaluation "
   ]
  },
  {
   "cell_type": "markdown",
   "id": "274c8438-41d8-46fb-a59b-8ef1df6298d0",
   "metadata": {},
   "source": [
    "### Laoding saved optimal hyperparameter tuned model "
   ]
  },
  {
   "cell_type": "code",
   "execution_count": 151,
   "id": "c183c0fb-fb83-47c3-87ae-d2b8ec1af74a",
   "metadata": {
    "tags": []
   },
   "outputs": [
    {
     "data": {
      "text/plain": [
       "MLP(\n",
       "  (dropout): Dropout(p=0.4, inplace=False)\n",
       "  (layer_1): Linear(in_features=16, out_features=32, bias=True)\n",
       "  (layer_2): Linear(in_features=32, out_features=1, bias=True)\n",
       "  (relu): ReLU()\n",
       "  (sigmoid): Sigmoid()\n",
       ")"
      ]
     },
     "execution_count": 151,
     "metadata": {},
     "output_type": "execute_result"
    }
   ],
   "source": [
    "saved_model = torch.load(\"MLP-model\")\n",
    "saved_model.to(device)"
   ]
  },
  {
   "cell_type": "code",
   "execution_count": 152,
   "id": "170ac21c-0a1b-409c-83cd-dbd5efc92369",
   "metadata": {},
   "outputs": [
    {
     "name": "stdout",
     "output_type": "stream",
     "text": [
      "Train-Set Accuracy =  99.10%  \n"
     ]
    }
   ],
   "source": [
    "saved_model.eval()\n",
    "with torch.no_grad():\n",
    "    train_preds = saved_model(X_train.float())\n",
    "    train_preds = train_preds.squeeze().cpu().numpy().round().astype(\"int\")\n",
    "train_labels = y_train.cpu().numpy()\n",
    "print(f\"Train-Set Accuracy =  {(accuracy_score(train_labels,train_preds)*100):>0.2f}%  \")"
   ]
  },
  {
   "cell_type": "code",
   "execution_count": 153,
   "id": "ed390b61-4417-43d0-8121-b0f9894ecb04",
   "metadata": {},
   "outputs": [
    {
     "name": "stdout",
     "output_type": "stream",
     "text": [
      "Validation-Set Accuracy =  96.43%  \n"
     ]
    }
   ],
   "source": [
    "saved_model.eval()\n",
    "with torch.no_grad():\n",
    "    valid_preds = saved_model(X_valid.float())\n",
    "    valid_preds = valid_preds.squeeze().cpu().numpy().round().astype(\"int\")\n",
    "valid_labels = y_valid.cpu().numpy()\n",
    "print(f\"Validation-Set Accuracy =  {(accuracy_score(valid_labels,valid_preds)*100):>0.2f}%  \")"
   ]
  },
  {
   "cell_type": "code",
   "execution_count": 154,
   "id": "827578ee-9066-4337-b9bd-e7ab7f20b762",
   "metadata": {
    "tags": []
   },
   "outputs": [
    {
     "name": "stdout",
     "output_type": "stream",
     "text": [
      "Test-Set Accuracy =  95.19%  \n"
     ]
    }
   ],
   "source": [
    "saved_model.eval()\n",
    "with torch.no_grad():\n",
    "    test_preds = saved_model(X_test.float())\n",
    "    test_preds = test_preds.squeeze().cpu().numpy().round().astype(\"int\")\n",
    "test_labels = y_test.cpu().numpy()\n",
    "print(f\"Test-Set Accuracy =  {(accuracy_score(test_labels,test_preds)*100):>0.2f}%  \")"
   ]
  },
  {
   "cell_type": "markdown",
   "id": "defc6091-dab8-4614-a503-305b7bafae3e",
   "metadata": {},
   "source": [
    "### Classification Report"
   ]
  },
  {
   "cell_type": "code",
   "execution_count": 155,
   "id": "2b3360b5-1bcd-4dc8-ae33-d00660a917e2",
   "metadata": {
    "tags": []
   },
   "outputs": [
    {
     "name": "stdout",
     "output_type": "stream",
     "text": [
      "              precision    recall  f1-score   support\n",
      "\n",
      "         0.0       1.00      0.98      0.99       131\n",
      "         1.0       0.99      1.00      0.99       201\n",
      "\n",
      "    accuracy                           0.99       332\n",
      "   macro avg       0.99      0.99      0.99       332\n",
      "weighted avg       0.99      0.99      0.99       332\n",
      "\n"
     ]
    }
   ],
   "source": [
    "print(classification_report(train_labels, train_preds))"
   ]
  },
  {
   "cell_type": "code",
   "execution_count": 156,
   "id": "88bcff14-1297-4d74-8cf9-07972d0b50b2",
   "metadata": {},
   "outputs": [
    {
     "name": "stdout",
     "output_type": "stream",
     "text": [
      "              precision    recall  f1-score   support\n",
      "\n",
      "         0.0       0.95      0.91      0.93        23\n",
      "         1.0       0.97      0.98      0.98        61\n",
      "\n",
      "    accuracy                           0.96        84\n",
      "   macro avg       0.96      0.95      0.95        84\n",
      "weighted avg       0.96      0.96      0.96        84\n",
      "\n"
     ]
    }
   ],
   "source": [
    "print(classification_report(valid_labels, valid_preds))"
   ]
  },
  {
   "cell_type": "code",
   "execution_count": 157,
   "id": "a5e9fa85-04f0-4981-8118-4264b44e6212",
   "metadata": {},
   "outputs": [
    {
     "name": "stdout",
     "output_type": "stream",
     "text": [
      "              precision    recall  f1-score   support\n",
      "\n",
      "         0.0       0.96      0.93      0.95        46\n",
      "         1.0       0.95      0.97      0.96        58\n",
      "\n",
      "    accuracy                           0.95       104\n",
      "   macro avg       0.95      0.95      0.95       104\n",
      "weighted avg       0.95      0.95      0.95       104\n",
      "\n"
     ]
    }
   ],
   "source": [
    "print(classification_report(test_labels, test_preds))"
   ]
  },
  {
   "cell_type": "markdown",
   "id": "eda7403f-4a14-44e7-94c7-c7039d688736",
   "metadata": {},
   "source": [
    "### Confusion Matrix "
   ]
  },
  {
   "cell_type": "code",
   "execution_count": 158,
   "id": "738986a3-9d0d-4417-8c60-ca0bf5335258",
   "metadata": {},
   "outputs": [
    {
     "data": {
      "image/png": "[encoded data removed]",
      "text/plain": [
       "<Figure size 432x288 with 2 Axes>"
      ]
     },
     "metadata": {
      "needs_background": "light"
     },
     "output_type": "display_data"
    }
   ],
   "source": [
    "cf = confusion_matrix(train_labels, train_preds)\n",
    "\n",
    "fig = sns.heatmap(cf,  annot=True, cmap='Blues', fmt='g')\n",
    "fig.set_xlabel('Predicted Values')\n",
    "fig.set_ylabel('Actual Values')\n",
    "fig.set_title('Training Confusion Matrix')\n",
    "\n",
    "plt.show()"
   ]
  },
  {
   "cell_type": "code",
   "execution_count": 159,
   "id": "1fdb6740-c59a-4a23-981c-3db9a3f016f2",
   "metadata": {},
   "outputs": [
    {
     "data": {
      "image/png": "[encoded data removed]",
      "text/plain": [
       "<Figure size 432x288 with 2 Axes>"
      ]
     },
     "metadata": {
      "needs_background": "light"
     },
     "output_type": "display_data"
    }
   ],
   "source": [
    "cf = confusion_matrix(valid_labels, valid_preds)\n",
    "\n",
    "fig = sns.heatmap(cf,  annot=True, cmap='Blues')\n",
    "fig.set_xlabel('Predicted Values')\n",
    "fig.set_ylabel('Actual Values')\n",
    "fig.set_title('Validating Confusion Matrix')\n",
    "\n",
    "plt.show()"
   ]
  },
  {
   "cell_type": "code",
   "execution_count": 160,
   "id": "6cd9de3f-6982-432a-ba1e-b93fd00a5eb0",
   "metadata": {
    "tags": []
   },
   "outputs": [
    {
     "data": {
      "image/png": "[encoded data removed]",
      "text/plain": [
       "<Figure size 432x288 with 2 Axes>"
      ]
     },
     "metadata": {
      "needs_background": "light"
     },
     "output_type": "display_data"
    }
   ],
   "source": [
    "cf = confusion_matrix(test_labels, test_preds)\n",
    "\n",
    "fig = sns.heatmap(cf,  annot=True, cmap='Blues')\n",
    "fig.set_xlabel('Predicted Values')\n",
    "fig.set_ylabel('Actual Values')\n",
    "fig.set_title('Testing onfusion Matrix')\n",
    "\n",
    "plt.show()"
   ]
  },
  {
   "cell_type": "markdown",
   "id": "6d5c82c1-4834-4aaf-a735-920c7c42d57f",
   "metadata": {},
   "source": [
    "### ROC AUC Score"
   ]
  },
  {
   "cell_type": "code",
   "execution_count": 161,
   "id": "a9ec9e0d-ee85-4613-8267-3d1adfd16c6b",
   "metadata": {},
   "outputs": [
    {
     "data": {
      "image/png": "[encoded data removed]",
      "text/plain": [
       "<Figure size 432x288 with 1 Axes>"
      ]
     },
     "metadata": {
      "needs_background": "light"
     },
     "output_type": "display_data"
    }
   ],
   "source": [
    "## generating prediction probabilities\n",
    "model.eval()\n",
    "with torch.no_grad():\n",
    "    probs = model(X_train.float())\n",
    "    probs = probs.squeeze().cpu().numpy()\n",
    "\n",
    "neg_probs = []\n",
    "for i in range(len(train_labels)):\n",
    "    if train_labels[i] == 0 :\n",
    "        neg_probs.append(1 - probs[i])\n",
    "    else :\n",
    "        neg_probs.append(probs[i])\n",
    "## ploting auc-roc curve\n",
    "neg_auc_score = roc_auc_score(train_labels, neg_probs)\n",
    "auc_score = roc_auc_score(train_labels, probs)\n",
    "\n",
    "fpr, tpr, _ = roc_curve(train_labels, neg_probs)\n",
    "plt.plot(fpr, tpr, color =\"red\", label=\"AUC SCORE(CLASS 0) = \"+str(round(neg_auc_score,2)))\n",
    "fpr, tpr, _ = roc_curve(train_labels, probs)\n",
    "plt.plot(fpr, tpr, color = \"blue\", label=\"AUC SCORE(CLASS 1) = \"+str(round(auc_score,2)))\n",
    "plt.plot(fpr, fpr, color = 'black', linestyle='dashed',lw=2 , label = 'Random Guessing')\n",
    "plt.ylabel('True Positive Rate')\n",
    "plt.xlabel('False Positive Rate')\n",
    "plt.title(\"Training ROC-AUC CURVE\")\n",
    "plt.legend()\n",
    "plt.show()"
   ]
  },
  {
   "cell_type": "code",
   "execution_count": 162,
   "id": "be487c41-b11e-4bb9-984e-e4da281009ab",
   "metadata": {},
   "outputs": [
    {
     "data": {
      "image/png": "[encoded data removed]",
      "text/plain": [
       "<Figure size 432x288 with 1 Axes>"
      ]
     },
     "metadata": {
      "needs_background": "light"
     },
     "output_type": "display_data"
    }
   ],
   "source": [
    "## generating prediction probabilities\n",
    "model.eval()\n",
    "with torch.no_grad():\n",
    "    probs = model(X_valid.float())\n",
    "    probs = probs.squeeze().cpu().numpy()\n",
    "\n",
    "neg_probs = []\n",
    "for i in range(len(valid_labels)):\n",
    "    if valid_labels[i] == 0 :\n",
    "        neg_probs.append(1 - probs[i])\n",
    "    else :\n",
    "        neg_probs.append(probs[i])\n",
    "## ploting auc-roc curve\n",
    "neg_auc_score = roc_auc_score(valid_labels, neg_probs)\n",
    "auc_score = roc_auc_score(valid_labels, probs)\n",
    "\n",
    "fpr, tpr, _ = roc_curve(valid_labels, neg_probs)\n",
    "plt.plot(fpr, tpr, color =\"red\", label=\"AUC SCORE(CLASS 0) = \"+str(round(neg_auc_score,2)))\n",
    "fpr, tpr, _ = roc_curve(valid_labels, probs)\n",
    "plt.plot(fpr, tpr, color = \"blue\", label=\"AUC SCORE(CLASS 1) = \"+str(round(auc_score,2)))\n",
    "plt.plot(fpr, fpr, color = 'black', linestyle='dashed',lw=2 , label = 'Random Guessing')\n",
    "plt.ylabel('True Positive Rate')\n",
    "plt.xlabel('False Positive Rate')\n",
    "plt.title(\"Validating ROC-AUC CURVE\")\n",
    "plt.legend()\n",
    "plt.show()"
   ]
  },
  {
   "cell_type": "code",
   "execution_count": 163,
   "id": "9b9b51ae-99c0-4c92-aa7b-23895ad853f5",
   "metadata": {
    "tags": []
   },
   "outputs": [
    {
     "data": {
      "image/png": "[encoded data removed]",
      "text/plain": [
       "<Figure size 432x288 with 1 Axes>"
      ]
     },
     "metadata": {
      "needs_background": "light"
     },
     "output_type": "display_data"
    }
   ],
   "source": [
    "## generating prediction probabilities\n",
    "model.eval()\n",
    "with torch.no_grad():\n",
    "    probs = model(X_test.float())\n",
    "    probs = probs.squeeze().cpu().numpy()\n",
    "\n",
    "neg_probs = []\n",
    "for i in range(len(test_labels)):\n",
    "    if test_labels[i] == 0 :\n",
    "        neg_probs.append(1 - probs[i])\n",
    "    else :\n",
    "        neg_probs.append(probs[i])\n",
    "## ploting auc-roc curve\n",
    "neg_auc_score = roc_auc_score(test_labels, neg_probs)\n",
    "auc_score = roc_auc_score(test_labels, probs)\n",
    "\n",
    "fpr, tpr, _ = roc_curve(test_labels, neg_probs)\n",
    "plt.plot(fpr, tpr, color =\"red\", label=\"AUC SCORE(CLASS 0) = \"+str(round(neg_auc_score,2)))\n",
    "fpr, tpr, _ = roc_curve(test_labels, probs)\n",
    "plt.plot(fpr, tpr, color = \"blue\", label=\"AUC SCORE(CLASS 1) = \"+str(round(auc_score,2)))\n",
    "plt.plot(fpr, fpr, color = 'black', linestyle='dashed',lw=2 , label = 'Random Guessing')\n",
    "plt.ylabel('True Positive Rate')\n",
    "plt.xlabel('False Positive Rate')\n",
    "plt.title(\"Testing ROC-AUC CURVE\")\n",
    "plt.legend()\n",
    "plt.show()"
   ]
  },
  {
   "cell_type": "code",
   "execution_count": null,
   "id": "96954ec5-878b-4079-a336-5240533eeeb4",
   "metadata": {},
   "outputs": [],
   "source": []
  }
 ],
 "metadata": {
  "kernelspec": {
   "display_name": "Python 3",
   "language": "python",
   "name": "python3"
  },
  "language_info": {
   "codemirror_mode": {
    "name": "ipython",
    "version": 3
   },
   "file_extension": ".py",
   "mimetype": "text/x-python",
   "name": "python",
   "nbconvert_exporter": "python",
   "pygments_lexer": "ipython3",
   "version": "3.8.8"
  }
 },
 "nbformat": 4,
 "nbformat_minor": 5
}
